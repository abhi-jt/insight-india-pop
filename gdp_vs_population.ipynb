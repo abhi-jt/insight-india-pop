{
 "cells": [
  {
   "cell_type": "code",
   "execution_count": null,
   "id": "a2939c62",
   "metadata": {
    "vscode": {
     "languageId": "plaintext"
    }
   },
   "outputs": [],
   "source": [
    "import pandas as pd\n",
    "import matplotlib.pyplot as plt\n",
    "\n",
    "# Creating a DataFrame manually\n",
    "data = {\n",
    "    'State': ['Uttar Pradesh', 'Maharashtra', 'Bihar', 'West Bengal', 'Madhya Pradesh',\n",
    "              'Tamil Nadu', 'Rajasthan', 'Karnataka', 'Gujarat', 'Andhra Pradesh',\n",
    "              'Odisha', 'Telangana', 'Kerala', 'Jharkhand', 'Assam', 'Punjab',\n",
    "              'Chhattisgarh', 'Haryana', 'Delhi', 'Jammu and Kashmir'],\n",
    "    'Population': [199812341, 112374333, 104099452, 91276115, 72626809,\n",
    "                   72147030, 68548437, 61095297, 60439692, 49577103,\n",
    "                   41974218, 35193978, 33406061, 32988134, 31205576, 27743338,\n",
    "                   25545198, 25351462, 16787941, 12267032],\n",
    "    'GDP (Cr INR)': [1750000, 2800000, 550000, 1300000, 900000,\n",
    "                     2200000, 1050000, 1800000, 1900000, 980000,\n",
    "                     800000, 1300000, 970000, 700000, 400000, 620000,\n",
    "                     500000, 850000, 960000, 370000]\n",
    "}\n",
    "\n",
    "df = pd.DataFrame(data)\n"
   ]
  },
  {
   "cell_type": "code",
   "execution_count": null,
   "id": "3e476e8e",
   "metadata": {
    "vscode": {
     "languageId": "plaintext"
    }
   },
   "outputs": [],
   "source": [
    "# Converting GDP from crore to trillion INR for readability\n",
    "df['GDP (Trillion INR)'] = df['GDP (Cr INR)'] / 100000\n",
    "\n",
    "# Plotting\n",
    "plt.figure(figsize=(10,6))\n",
    "plt.scatter(df['Population'], df['GDP (Trillion INR)'], color='green', s=100, alpha=0.7)\n",
    "\n",
    "# Annotating each point\n",
    "for i in range(len(df)):\n",
    "    plt.text(df['Population'][i], df['GDP (Trillion INR)'][i], df['State'][i], fontsize=8)\n",
    "\n",
    "plt.title('GDP vs Population of Indian States')\n",
    "plt.xlabel('Population')\n",
    "plt.ylabel('GDP (in Trillion INR)')\n",
    "plt.grid(True)\n",
    "plt.tight_layout()\n",
    "plt.show()\n"
   ]
  },
  {
   "cell_type": "code",
   "execution_count": null,
   "id": "a3768eba",
   "metadata": {
    "vscode": {
     "languageId": "plaintext"
    }
   },
   "outputs": [],
   "source": [
    "# Calculating GDP per capita\n",
    "df['GDP per Capita (INR)'] = df['GDP (Cr INR)'] * 1e7 / df['Population']  # Crore INR to actual INR\n",
    "\n",
    "# Sorting states by GDP per capita\n",
    "df_sorted = df.sort_values(by='GDP per Capita (INR)', ascending=False)\n",
    "\n",
    "# Plotting the top 10 states by GDP per capita\n",
    "plt.figure(figsize=(12,6))\n",
    "plt.bar(df_sorted['State'].head(10), df_sorted['GDP per Capita (INR)'].head(10), color='purple')\n",
    "plt.xticks(rotation=45)\n",
    "plt.title('Top 10 Indian States by GDP per Capita')\n",
    "plt.xlabel('State')\n",
    "plt.ylabel('GDP per Capita (INR)')\n",
    "plt.tight_layout()\n",
    "plt.show()\n"
   ]
  }
 ],
 "metadata": {
  "language_info": {
   "name": "python"
  }
 },
 "nbformat": 4,
 "nbformat_minor": 5
}
